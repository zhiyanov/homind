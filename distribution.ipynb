{
 "cells": [
  {
   "cell_type": "code",
   "execution_count": 1,
   "id": "1ca4d240",
   "metadata": {},
   "outputs": [],
   "source": [
    "import numpy as np\n",
    "import pandas as pd\n",
    "import seaborn as sns\n",
    "import matplotlib.pyplot as plt\n",
    "\n",
    "from hyppo.ksample import KSample\n",
    "from lib.ranks.dst import Permuter\n",
    "from lib.ranks.dst import Limiter"
   ]
  },
  {
   "cell_type": "code",
   "execution_count": 2,
   "id": "bf4e8c1b",
   "metadata": {},
   "outputs": [],
   "source": [
    "FIRST_SIZE = 100\n",
    "SECOND_SIZE = 50\n",
    "DIMENSION = 2\n",
    "SEED = 3724"
   ]
  },
  {
   "cell_type": "code",
   "execution_count": 3,
   "id": "cc547671",
   "metadata": {},
   "outputs": [],
   "source": [
    "# creation of permuter object"
   ]
  },
  {
   "cell_type": "code",
   "execution_count": 4,
   "id": "f5789d23",
   "metadata": {},
   "outputs": [],
   "source": [
    "ksample = KSample(indep_test=\"DCorr\")\n",
    "permuter = Permuter(\n",
    "    ksample.statistic,\n",
    "    DIMENSION,\n",
    "    FIRST_SIZE, SECOND_SIZE,\n",
    "    seed=SEED\n",
    ")"
   ]
  },
  {
   "cell_type": "code",
   "execution_count": 5,
   "id": "014c4a32",
   "metadata": {},
   "outputs": [],
   "source": [
    "# test distribution generation"
   ]
  },
  {
   "cell_type": "code",
   "execution_count": 6,
   "id": "dd37e95d",
   "metadata": {},
   "outputs": [
    {
     "name": "stdout",
     "output_type": "stream",
     "text": [
      "CPU times: user 8.35 ms, sys: 36.3 ms, total: 44.7 ms\n",
      "Wall time: 6.91 s\n"
     ]
    },
    {
     "data": {
      "text/plain": [
       "array([-0.01351227, -0.01319183, -0.01308588, ...,  0.06550693,\n",
       "        0.06988841,  0.0777506 ], dtype=float32)"
      ]
     },
     "execution_count": 6,
     "metadata": {},
     "output_type": "execute_result"
    }
   ],
   "source": [
    "%%time\n",
    "permuter.distribution(10000)"
   ]
  },
  {
   "cell_type": "code",
   "execution_count": 7,
   "id": "363be4c8",
   "metadata": {},
   "outputs": [
    {
     "name": "stdout",
     "output_type": "stream",
     "text": [
      "CPU times: user 5.57 ms, sys: 32.1 ms, total: 37.7 ms\n",
      "Wall time: 3.72 s\n"
     ]
    },
    {
     "data": {
      "text/plain": [
       "array([-0.01344354, -0.01339631, -0.01336522, ...,  0.06031908,\n",
       "        0.06325199,  0.06892849], dtype=float32)"
      ]
     },
     "execution_count": 7,
     "metadata": {},
     "output_type": "execute_result"
    }
   ],
   "source": [
    "%%time\n",
    "permuter.distribution(\n",
    "    10000, seeds=[2342, 1234, 8578, 4326])"
   ]
  },
  {
   "cell_type": "code",
   "execution_count": 8,
   "id": "8e3e23d1",
   "metadata": {},
   "outputs": [
    {
     "data": {
      "text/plain": [
       "<AxesSubplot:ylabel='Count'>"
      ]
     },
     "execution_count": 8,
     "metadata": {},
     "output_type": "execute_result"
    },
    {
     "data": {
      "image/png": "[encoded data removed]",
      "text/plain": [
       "<Figure size 432x288 with 1 Axes>"
      ]
     },
     "metadata": {
      "needs_background": "light"
     },
     "output_type": "display_data"
    }
   ],
   "source": [
    "sns.histplot(permuter.dst)"
   ]
  },
  {
   "cell_type": "code",
   "execution_count": 9,
   "id": "24ada9d1",
   "metadata": {},
   "outputs": [],
   "source": [
    "# creation of limiter object"
   ]
  },
  {
   "cell_type": "code",
   "execution_count": 10,
   "id": "1588ce47",
   "metadata": {},
   "outputs": [],
   "source": [
    "ksample = KSample(indep_test=\"Dcorr\")\n",
    "limiter = Limiter(\n",
    "    ksample.statistic,\n",
    "    DIMENSION,\n",
    "    FIRST_SIZE, SECOND_SIZE,\n",
    "    seed=SEED\n",
    ")"
   ]
  },
  {
   "cell_type": "code",
   "execution_count": 11,
   "id": "abecce1e",
   "metadata": {},
   "outputs": [],
   "source": [
    "# test distribution generation"
   ]
  },
  {
   "cell_type": "code",
   "execution_count": 12,
   "id": "aca964cd",
   "metadata": {},
   "outputs": [
    {
     "name": "stdout",
     "output_type": "stream",
     "text": [
      "CPU times: user 4.57 ms, sys: 20.9 ms, total: 25.5 ms\n",
      "Wall time: 7.98 s\n"
     ]
    },
    {
     "data": {
      "text/plain": [
       "array([-0.01379219, -0.01377838, -0.01370302, ...,  0.0769055 ,\n",
       "        0.07873206,  0.10188852], dtype=float32)"
      ]
     },
     "execution_count": 12,
     "metadata": {},
     "output_type": "execute_result"
    }
   ],
   "source": [
    "%%time\n",
    "limiter.distribution(10000)"
   ]
  },
  {
   "cell_type": "code",
   "execution_count": 13,
   "id": "811dc61c",
   "metadata": {},
   "outputs": [
    {
     "name": "stdout",
     "output_type": "stream",
     "text": [
      "CPU times: user 5.69 ms, sys: 29.8 ms, total: 35.5 ms\n",
      "Wall time: 4.17 s\n"
     ]
    },
    {
     "data": {
      "text/plain": [
       "array([-0.01386798, -0.01337156, -0.01333312, ...,  0.06302458,\n",
       "        0.06770811,  0.06897521], dtype=float32)"
      ]
     },
     "execution_count": 13,
     "metadata": {},
     "output_type": "execute_result"
    }
   ],
   "source": [
    "%%time\n",
    "limiter.distribution(\n",
    "    10000, seeds=[2342, 1234, 8578, 4326])"
   ]
  },
  {
   "cell_type": "code",
   "execution_count": 14,
   "id": "a15722df",
   "metadata": {},
   "outputs": [
    {
     "data": {
      "text/plain": [
       "<AxesSubplot:ylabel='Count'>"
      ]
     },
     "execution_count": 14,
     "metadata": {},
     "output_type": "execute_result"
    },
    {
     "data": {
      "image/png": "[encoded data removed]",
      "text/plain": [
       "<Figure size 432x288 with 1 Axes>"
      ]
     },
     "metadata": {
      "needs_background": "light"
     },
     "output_type": "display_data"
    }
   ],
   "source": [
    "sns.histplot(limiter.dst)"
   ]
  },
  {
   "cell_type": "code",
   "execution_count": 15,
   "id": "ad9d31f0",
   "metadata": {},
   "outputs": [
    {
     "data": {
      "text/plain": [
       "<AxesSubplot:xlabel='value', ylabel='Density'>"
      ]
     },
     "execution_count": 15,
     "metadata": {},
     "output_type": "execute_result"
    },
    {
     "data": {
      "image/png": "[encoded data removed]",
      "text/plain": [
       "<Figure size 432x288 with 1 Axes>"
      ]
     },
     "metadata": {
      "needs_background": "light"
     },
     "output_type": "display_data"
    }
   ],
   "source": [
    "sns.histplot(\n",
    "    x=\"value\",\n",
    "    hue=\"variable\",\n",
    "    data=pd.DataFrame(\n",
    "        columns=[\"permute\", \"limit\"],\n",
    "        data=zip(permuter.dst, limiter.dst)\n",
    "    ).melt(),\n",
    "    alpha=0.3,\n",
    "    stat=\"density\"\n",
    ")"
   ]
  }
 ],
 "metadata": {
  "kernelspec": {
   "display_name": "Python 3",
   "language": "python",
   "name": "python3"
  },
  "language_info": {
   "codemirror_mode": {
    "name": "ipython",
    "version": 3
   },
   "file_extension": ".py",
   "mimetype": "text/x-python",
   "name": "python",
   "nbconvert_exporter": "python",
   "pygments_lexer": "ipython3",
   "version": "3.8.8"
  }
 },
 "nbformat": 4,
 "nbformat_minor": 5
}
