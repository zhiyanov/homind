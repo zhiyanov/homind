{
 "cells": [
  {
   "cell_type": "code",
   "execution_count": 1,
   "id": "6a276a1e",
   "metadata": {},
   "outputs": [],
   "source": [
    "import numpy as np\n",
    "import pandas as pd\n",
    "import seaborn as sns\n",
    "import matplotlib.pyplot as plt\n",
    "import tqdm\n",
    "\n",
    "from hyppo.ksample import KSample\n",
    "from lib.ranks.dst import Permuter\n",
    "from lib.ranks.dst import Limiter\n",
    "from lib.ranks.rank import rank"
   ]
  },
  {
   "cell_type": "code",
   "execution_count": 2,
   "id": "0e3af5e4",
   "metadata": {},
   "outputs": [],
   "source": [
    "FIRST_SIZE = 40\n",
    "SECOND_SIZE = 20\n",
    "DIMENSION = 2\n",
    "SEED = 3724\n",
    "DISTRIBUTION = 1000\n",
    "\n",
    "PVALUE = 20"
   ]
  },
  {
   "cell_type": "markdown",
   "id": "4b51cb6b",
   "metadata": {},
   "source": [
    "# Normal distribution"
   ]
  },
  {
   "cell_type": "markdown",
   "id": "ab42b848",
   "metadata": {},
   "source": [
    "## Equal covariation matrices different means"
   ]
  },
  {
   "cell_type": "code",
   "execution_count": 3,
   "id": "454e9438",
   "metadata": {},
   "outputs": [],
   "source": [
    "def normal_mean(sizes, means, dim=2):\n",
    "    result = []\n",
    "    for size, mean in zip(sizes, means):\n",
    "        sample = np.random.multivariate_normal(\n",
    "            mean + np.zeros(dim),\n",
    "            np.identity(dim),\n",
    "            size=size)\n",
    "        result.append(sample)\n",
    "    \n",
    "    return result"
   ]
  },
  {
   "cell_type": "markdown",
   "id": "3d7cdeb2",
   "metadata": {},
   "source": [
    "### Heller test"
   ]
  },
  {
   "cell_type": "code",
   "execution_count": 4,
   "id": "ee229426",
   "metadata": {},
   "outputs": [
    {
     "name": "stdout",
     "output_type": "stream",
     "text": [
      "CPU times: user 14.2 ms, sys: 62.6 ms, total: 76.8 ms\n",
      "Wall time: 2.37 s\n"
     ]
    },
    {
     "data": {
      "text/plain": [
       "''"
      ]
     },
     "execution_count": 4,
     "metadata": {},
     "output_type": "execute_result"
    }
   ],
   "source": [
    "%%time\n",
    "criteria = KSample(indep_test=\"HHG\")\n",
    "permuter = Permuter(\n",
    "    KSample(indep_test=\"HHG\").statistic,\n",
    "    DIMENSION,\n",
    "    FIRST_SIZE, SECOND_SIZE,\n",
    "    seed=SEED\n",
    ")\n",
    "permuter.distribution(DISTRIBUTION, \n",
    "    seeds=[2342, 1234, 8578, 4326])\n",
    ";"
   ]
  },
  {
   "cell_type": "markdown",
   "id": "1648a94e",
   "metadata": {},
   "source": [
    "#### Different means"
   ]
  },
  {
   "cell_type": "code",
   "execution_count": 5,
   "id": "f3063a1a",
   "metadata": {},
   "outputs": [
    {
     "data": {
      "image/png": "[encoded data removed]",
      "text/plain": [
       "<Figure size 432x288 with 1 Axes>"
      ]
     },
     "metadata": {
      "needs_background": "light"
     },
     "output_type": "display_data"
    }
   ],
   "source": [
    "first, second = normal_mean(\n",
    "    [FIRST_SIZE, SECOND_SIZE],\n",
    "    [0, 1],\n",
    "    dim=DIMENSION\n",
    ")\n",
    "\n",
    "plt.scatter(first[:, 0], first[:, 1], label=\"first\")\n",
    "plt.scatter(second[:, 0], second[:, 1], label=\"second\")\n",
    "plt.legend()\n",
    "plt.gca().set_aspect('equal', 'box')\n",
    "plt.show()"
   ]
  },
  {
   "cell_type": "code",
   "execution_count": 6,
   "id": "c70505e8",
   "metadata": {},
   "outputs": [
    {
     "data": {
      "image/png": "[encoded data removed]",
      "text/plain": [
       "<Figure size 432x288 with 1 Axes>"
      ]
     },
     "metadata": {
      "needs_background": "light"
     },
     "output_type": "display_data"
    }
   ],
   "source": [
    "rfirst, rsecond = rank([first, second], permuter.ranks)\n",
    "\n",
    "plt.scatter(rfirst[:, 0], rfirst[:, 1], label=\"first\")\n",
    "plt.scatter(rsecond[:, 0], rsecond[:, 1], label=\"second\")\n",
    "plt.legend()\n",
    "plt.gca().set_aspect('equal', 'box')\n",
    "plt.show()"
   ]
  },
  {
   "cell_type": "code",
   "execution_count": 7,
   "id": "9dbbe4fc",
   "metadata": {},
   "outputs": [
    {
     "name": "stderr",
     "output_type": "stream",
     "text": [
      "100%|██████████| 20/20 [00:00<00:00, 118.95it/s]"
     ]
    },
    {
     "name": "stdout",
     "output_type": "stream",
     "text": [
      "CPU times: user 152 ms, sys: 21.3 ms, total: 173 ms\n",
      "Wall time: 171 ms\n"
     ]
    },
    {
     "name": "stderr",
     "output_type": "stream",
     "text": [
      "\n"
     ]
    }
   ],
   "source": [
    "%%time\n",
    "pvr = []\n",
    "for i in tqdm.tqdm(range(PVALUE)):\n",
    "    first, second = normal_mean(\n",
    "        [FIRST_SIZE, SECOND_SIZE],\n",
    "        [0, 1],\n",
    "        dim=DIMENSION\n",
    "    )\n",
    "    pvr.append(permuter.test(first, second)[1])\n",
    "\n",
    "pvr = sorted(pvr)"
   ]
  },
  {
   "cell_type": "code",
   "execution_count": 8,
   "id": "1dfaaf30",
   "metadata": {},
   "outputs": [
    {
     "name": "stderr",
     "output_type": "stream",
     "text": [
      "100%|██████████| 20/20 [01:12<00:00,  3.62s/it]"
     ]
    },
    {
     "name": "stdout",
     "output_type": "stream",
     "text": [
      "CPU times: user 1min 12s, sys: 474 ms, total: 1min 12s\n",
      "Wall time: 1min 12s\n"
     ]
    },
    {
     "name": "stderr",
     "output_type": "stream",
     "text": [
      "\n"
     ]
    }
   ],
   "source": [
    "%%time\n",
    "pvo = []\n",
    "for i in tqdm.tqdm(range(PVALUE)):\n",
    "    first, second = normal_mean(\n",
    "        [FIRST_SIZE, SECOND_SIZE],\n",
    "        [0, 1],\n",
    "        dim=DIMENSION\n",
    "    )\n",
    "    pvo.append(criteria.test(first, second)[1])\n",
    "    \n",
    "pvo = sorted(pvo)"
   ]
  },
  {
   "cell_type": "code",
   "execution_count": 9,
   "id": "c23ed9ef",
   "metadata": {},
   "outputs": [
    {
     "data": {
      "image/png": "[encoded data removed]",
      "text/plain": [
       "<Figure size 432x288 with 1 Axes>"
      ]
     },
     "metadata": {
      "needs_background": "light"
     },
     "output_type": "display_data"
    }
   ],
   "source": [
    "x = np.linspace(0, 1, PVALUE)\n",
    "plt.scatter(pvo, x, label=\"ordinary\", marker=\"o\")\n",
    "plt.scatter(pvr, x, label=\"ranked\", marker=\"v\")\n",
    "# plt.plot(x, x)\n",
    "plt.legend()\n",
    "# plt.gca().set_aspect('equal', 'box')\n",
    "plt.show()"
   ]
  },
  {
   "cell_type": "markdown",
   "id": "4412a81f",
   "metadata": {},
   "source": [
    "#### Equal means"
   ]
  },
  {
   "cell_type": "code",
   "execution_count": 10,
   "id": "de1e3cea",
   "metadata": {},
   "outputs": [
    {
     "data": {
      "image/png": "[encoded data removed]",
      "text/plain": [
       "<Figure size 432x288 with 1 Axes>"
      ]
     },
     "metadata": {
      "needs_background": "light"
     },
     "output_type": "display_data"
    }
   ],
   "source": [
    "first, second = normal_mean(\n",
    "    [FIRST_SIZE, SECOND_SIZE],\n",
    "    [10, 10],\n",
    "    dim=DIMENSION\n",
    ")\n",
    "\n",
    "plt.scatter(first[:, 0], first[:, 1], label=\"first\")\n",
    "plt.scatter(second[:, 0], second[:, 1], label=\"second\")\n",
    "plt.legend()\n",
    "plt.gca().set_aspect('equal', 'box')\n",
    "plt.show()"
   ]
  },
  {
   "cell_type": "code",
   "execution_count": 11,
   "id": "dbd3616b",
   "metadata": {},
   "outputs": [
    {
     "data": {
      "image/png": "[encoded data removed]",
      "text/plain": [
       "<Figure size 432x288 with 1 Axes>"
      ]
     },
     "metadata": {
      "needs_background": "light"
     },
     "output_type": "display_data"
    }
   ],
   "source": [
    "rfirst, rsecond = rank([first, second], permuter.ranks)\n",
    "\n",
    "plt.scatter(rfirst[:, 0], rfirst[:, 1], label=\"first\")\n",
    "plt.scatter(rsecond[:, 0], rsecond[:, 1], label=\"second\")\n",
    "plt.legend()\n",
    "plt.gca().set_aspect('equal', 'box')\n",
    "plt.show()"
   ]
  },
  {
   "cell_type": "code",
   "execution_count": null,
   "id": "4d511bda",
   "metadata": {},
   "outputs": [],
   "source": [
    "stats = []\n",
    "for i in tqdm.tqdm(range(PVALUE * 50)):\n",
    "    first, second = normal_mean(\n",
    "        [FIRST_SIZE, SECOND_SIZE],\n",
    "        [10, 10],\n",
    "        dim=DIMENSION\n",
    "    )\n",
    "    stats.append(permuter.statistic(first, second))"
   ]
  },
  {
   "cell_type": "code",
   "execution_count": null,
   "id": "10937a64",
   "metadata": {},
   "outputs": [],
   "source": [
    "sns.histplot(\n",
    "    x=\"value\",\n",
    "    hue=\"variable\",\n",
    "    data=pd.DataFrame(\n",
    "        columns=[\"limit\", \"sample\"],\n",
    "        data=zip(permuter.dst, stats)\n",
    "    ).melt(),\n",
    "    alpha=0.3,\n",
    "    stat=\"density\"\n",
    ")"
   ]
  },
  {
   "cell_type": "code",
   "execution_count": 12,
   "id": "30f84f35",
   "metadata": {},
   "outputs": [
    {
     "name": "stderr",
     "output_type": "stream",
     "text": [
      "100%|██████████| 20/20 [00:00<00:00, 152.70it/s]"
     ]
    },
    {
     "name": "stdout",
     "output_type": "stream",
     "text": [
      "CPU times: user 131 ms, sys: 3.3 ms, total: 134 ms\n",
      "Wall time: 133 ms\n"
     ]
    },
    {
     "name": "stderr",
     "output_type": "stream",
     "text": [
      "\n"
     ]
    }
   ],
   "source": [
    "%%time\n",
    "pvr = []\n",
    "for i in tqdm.tqdm(range(PVALUE)):\n",
    "    first, second = normal_mean(\n",
    "        [FIRST_SIZE, SECOND_SIZE],\n",
    "        [10, 10],\n",
    "        dim=DIMENSION\n",
    "    )\n",
    "    pvr.append(permuter.test(first, second)[1])\n",
    "\n",
    "pvr = sorted(pvr)"
   ]
  },
  {
   "cell_type": "code",
   "execution_count": 14,
   "id": "f6e1e94a",
   "metadata": {},
   "outputs": [
    {
     "name": "stderr",
     "output_type": "stream",
     "text": [
      "100%|██████████| 20/20 [01:13<00:00,  3.66s/it]"
     ]
    },
    {
     "name": "stdout",
     "output_type": "stream",
     "text": [
      "CPU times: user 1min 12s, sys: 331 ms, total: 1min 13s\n",
      "Wall time: 1min 13s\n"
     ]
    },
    {
     "name": "stderr",
     "output_type": "stream",
     "text": [
      "\n"
     ]
    }
   ],
   "source": [
    "%%time\n",
    "pvo = []\n",
    "for i in tqdm.tqdm(range(PVALUE)):\n",
    "    first, second = normal_mean(\n",
    "        [FIRST_SIZE, SECOND_SIZE],\n",
    "        [10, 10],\n",
    "        dim=DIMENSION\n",
    "    )\n",
    "    pvo.append(criteria.test(first, second)[1])\n",
    "    \n",
    "pvo = sorted(pvo)"
   ]
  },
  {
   "cell_type": "code",
   "execution_count": 15,
   "id": "2556eff1",
   "metadata": {},
   "outputs": [
    {
     "data": {
      "image/png": "[encoded data removed]",
      "text/plain": [
       "<Figure size 432x288 with 1 Axes>"
      ]
     },
     "metadata": {
      "needs_background": "light"
     },
     "output_type": "display_data"
    }
   ],
   "source": [
    "x = np.linspace(0, 1, PVALUE)\n",
    "plt.scatter(pvo, x, label=\"ordinary\", marker=\"o\")\n",
    "plt.scatter(pvr, x, label=\"ranked\", marker=\"v\")\n",
    "plt.plot(x, x)\n",
    "plt.legend()\n",
    "# plt.gca().set_aspect('equal', 'box')\n",
    "plt.show()"
   ]
  },
  {
   "cell_type": "code",
   "execution_count": null,
   "id": "68dde7d6",
   "metadata": {},
   "outputs": [],
   "source": []
  }
 ],
 "metadata": {
  "kernelspec": {
   "display_name": "Python 3",
   "language": "python",
   "name": "python3"
  },
  "language_info": {
   "codemirror_mode": {
    "name": "ipython",
    "version": 3
   },
   "file_extension": ".py",
   "mimetype": "text/x-python",
   "name": "python",
   "nbconvert_exporter": "python",
   "pygments_lexer": "ipython3",
   "version": "3.8.8"
  }
 },
 "nbformat": 4,
 "nbformat_minor": 5
}
