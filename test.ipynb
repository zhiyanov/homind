{
 "cells": [
  {
   "cell_type": "code",
   "execution_count": 3,
   "id": "6a276a1e",
   "metadata": {},
   "outputs": [],
   "source": [
    "import numpy as np\n",
    "import pandas as pd\n",
    "import seaborn as sns\n",
    "import matplotlib.pyplot as plt\n",
    "import tqdm\n",
    "\n",
    "from hyppo.ksample import KSample\n",
    "from lib.ranks.dst import Permuter\n",
    "from lib.ranks.dst import Limiter\n",
    "from lib.ranks.rank import rank"
   ]
  },
  {
   "cell_type": "code",
   "execution_count": 24,
   "id": "0e3af5e4",
   "metadata": {},
   "outputs": [],
   "source": [
    "DIMENSION = 2\n",
    "SEED = 3724\n",
    "DISTRIBUTION = 1000\n",
    "\n",
    "PVALUE = 20"
   ]
  },
  {
   "cell_type": "markdown",
   "id": "4b51cb6b",
   "metadata": {},
   "source": [
    "# Normal distribution"
   ]
  },
  {
   "cell_type": "markdown",
   "id": "ab42b848",
   "metadata": {},
   "source": [
    "## Equal covariance matrices different means"
   ]
  },
  {
   "cell_type": "code",
   "execution_count": 25,
   "id": "454e9438",
   "metadata": {},
   "outputs": [],
   "source": [
    "def normal_mean(sizes, means, dim=2):\n",
    "    result = []\n",
    "    for size, mean in zip(sizes, means):\n",
    "        sample = np.random.multivariate_normal(\n",
    "            mean + np.zeros(dim),\n",
    "            np.identity(dim),\n",
    "            size=size)\n",
    "        result.append(sample)\n",
    "    \n",
    "    return result"
   ]
  },
  {
   "cell_type": "markdown",
   "id": "3d7cdeb2",
   "metadata": {},
   "source": [
    "### Heller test"
   ]
  },
  {
   "cell_type": "code",
   "execution_count": 26,
   "id": "ee229426",
   "metadata": {},
   "outputs": [
    {
     "name": "stdout",
     "output_type": "stream",
     "text": [
      "CPU times: user 10.4 ms, sys: 59.8 ms, total: 70.2 ms\n",
      "Wall time: 2.44 s\n"
     ]
    },
    {
     "data": {
      "text/plain": [
       "''"
      ]
     },
     "execution_count": 26,
     "metadata": {},
     "output_type": "execute_result"
    }
   ],
   "source": [
    "%%time\n",
    "criteria = KSample(indep_test=\"HHG\")\n",
    "permuter = Permuter(\n",
    "    KSample(indep_test=\"HHG\").statistic,\n",
    "    DIMENSION,\n",
    "    40, 20,\n",
    "    seed=SEED\n",
    ")\n",
    "permuter.distribution(DISTRIBUTION, \n",
    "    seeds=[2342, 1234, 8578, 4326])\n",
    ";"
   ]
  },
  {
   "cell_type": "markdown",
   "id": "1648a94e",
   "metadata": {},
   "source": [
    "#### Different means"
   ]
  },
  {
   "cell_type": "code",
   "execution_count": 27,
   "id": "f3063a1a",
   "metadata": {},
   "outputs": [
    {
     "data": {
      "image/png": "[encoded data removed]",
      "text/plain": [
       "<Figure size 432x288 with 1 Axes>"
      ]
     },
     "metadata": {
      "needs_background": "light"
     },
     "output_type": "display_data"
    }
   ],
   "source": [
    "first, second = normal_mean(\n",
    "    [40, 20],\n",
    "    [0, 1],\n",
    "    dim=DIMENSION\n",
    ")\n",
    "\n",
    "plt.scatter(first[:, 0], first[:, 1], label=\"first\")\n",
    "plt.scatter(second[:, 0], second[:, 1], label=\"second\")\n",
    "plt.legend()\n",
    "plt.gca().set_aspect('equal', 'box')\n",
    "plt.show()"
   ]
  },
  {
   "cell_type": "code",
   "execution_count": 28,
   "id": "c70505e8",
   "metadata": {},
   "outputs": [
    {
     "data": {
      "image/png": "[encoded data removed]",
      "text/plain": [
       "<Figure size 432x288 with 1 Axes>"
      ]
     },
     "metadata": {
      "needs_background": "light"
     },
     "output_type": "display_data"
    }
   ],
   "source": [
    "rfirst, rsecond = rank([first, second], permuter.ranks)\n",
    "\n",
    "plt.scatter(rfirst[:, 0], rfirst[:, 1], label=\"first\")\n",
    "plt.scatter(rsecond[:, 0], rsecond[:, 1], label=\"second\")\n",
    "plt.legend()\n",
    "plt.gca().set_aspect('equal', 'box')\n",
    "plt.show()"
   ]
  },
  {
   "cell_type": "code",
   "execution_count": 29,
   "id": "9dbbe4fc",
   "metadata": {},
   "outputs": [
    {
     "name": "stderr",
     "output_type": "stream",
     "text": [
      "100%|██████████| 20/20 [00:00<00:00, 160.46it/s]"
     ]
    },
    {
     "name": "stdout",
     "output_type": "stream",
     "text": [
      "CPU times: user 125 ms, sys: 4.29 ms, total: 129 ms\n",
      "Wall time: 127 ms\n"
     ]
    },
    {
     "name": "stderr",
     "output_type": "stream",
     "text": [
      "\n"
     ]
    }
   ],
   "source": [
    "%%time\n",
    "pvr = []\n",
    "for i in tqdm.tqdm(range(PVALUE)):\n",
    "    first, second = normal_mean(\n",
    "        [40, 20],\n",
    "        [0, 1],\n",
    "        dim=DIMENSION\n",
    "    )\n",
    "    pvr.append(permuter.test(first, second)[1])\n",
    "\n",
    "pvr = sorted(pvr)"
   ]
  },
  {
   "cell_type": "code",
   "execution_count": 30,
   "id": "1dfaaf30",
   "metadata": {},
   "outputs": [
    {
     "name": "stderr",
     "output_type": "stream",
     "text": [
      "100%|██████████| 20/20 [01:12<00:00,  3.63s/it]"
     ]
    },
    {
     "name": "stdout",
     "output_type": "stream",
     "text": [
      "CPU times: user 1min 12s, sys: 395 ms, total: 1min 12s\n",
      "Wall time: 1min 12s\n"
     ]
    },
    {
     "name": "stderr",
     "output_type": "stream",
     "text": [
      "\n"
     ]
    }
   ],
   "source": [
    "%%time\n",
    "pvo = []\n",
    "for i in tqdm.tqdm(range(PVALUE)):\n",
    "    first, second = normal_mean(\n",
    "        [40, 20],\n",
    "        [0, 1],\n",
    "        dim=DIMENSION\n",
    "    )\n",
    "    pvo.append(criteria.test(first, second)[1])\n",
    "    \n",
    "pvo = sorted(pvo)"
   ]
  },
  {
   "cell_type": "code",
   "execution_count": 31,
   "id": "c23ed9ef",
   "metadata": {},
   "outputs": [
    {
     "data": {
      "image/png": "[encoded data removed]",
      "text/plain": [
       "<Figure size 432x288 with 1 Axes>"
      ]
     },
     "metadata": {
      "needs_background": "light"
     },
     "output_type": "display_data"
    }
   ],
   "source": [
    "x = np.linspace(0, 1, PVALUE)\n",
    "plt.scatter(pvo, x, label=\"ordinary\", marker=\"o\")\n",
    "plt.scatter(pvr, x, label=\"ranked\", marker=\"v\")\n",
    "plt.plot(x, x)\n",
    "plt.legend()\n",
    "plt.gca().set_aspect('equal', 'box')\n",
    "plt.show()"
   ]
  },
  {
   "cell_type": "markdown",
   "id": "4412a81f",
   "metadata": {},
   "source": [
    "#### Equal means"
   ]
  },
  {
   "cell_type": "code",
   "execution_count": 32,
   "id": "de1e3cea",
   "metadata": {},
   "outputs": [
    {
     "data": {
      "image/png": "[encoded data removed]",
      "text/plain": [
       "<Figure size 432x288 with 1 Axes>"
      ]
     },
     "metadata": {
      "needs_background": "light"
     },
     "output_type": "display_data"
    }
   ],
   "source": [
    "first, second = normal_mean(\n",
    "    [40, 20],\n",
    "    [10, 10],\n",
    "    dim=DIMENSION\n",
    ")\n",
    "\n",
    "plt.scatter(first[:, 0], first[:, 1], label=\"first\")\n",
    "plt.scatter(second[:, 0], second[:, 1], label=\"second\")\n",
    "plt.legend()\n",
    "plt.gca().set_aspect('equal', 'box')\n",
    "plt.show()"
   ]
  },
  {
   "cell_type": "code",
   "execution_count": 33,
   "id": "dbd3616b",
   "metadata": {},
   "outputs": [
    {
     "data": {
      "image/png": "[encoded data removed]",
      "text/plain": [
       "<Figure size 432x288 with 1 Axes>"
      ]
     },
     "metadata": {
      "needs_background": "light"
     },
     "output_type": "display_data"
    }
   ],
   "source": [
    "rfirst, rsecond = rank([first, second], permuter.ranks)\n",
    "\n",
    "plt.scatter(rfirst[:, 0], rfirst[:, 1], label=\"first\")\n",
    "plt.scatter(rsecond[:, 0], rsecond[:, 1], label=\"second\")\n",
    "plt.legend()\n",
    "plt.gca().set_aspect('equal', 'box')\n",
    "plt.show()"
   ]
  },
  {
   "cell_type": "code",
   "execution_count": 36,
   "id": "30f84f35",
   "metadata": {},
   "outputs": [
    {
     "name": "stderr",
     "output_type": "stream",
     "text": [
      "100%|██████████| 20/20 [00:00<00:00, 154.39it/s]"
     ]
    },
    {
     "name": "stdout",
     "output_type": "stream",
     "text": [
      "CPU times: user 130 ms, sys: 3.48 ms, total: 134 ms\n",
      "Wall time: 132 ms\n"
     ]
    },
    {
     "name": "stderr",
     "output_type": "stream",
     "text": [
      "\n"
     ]
    }
   ],
   "source": [
    "%%time\n",
    "pvr = []\n",
    "for i in tqdm.tqdm(range(PVALUE)):\n",
    "    first, second = normal_mean(\n",
    "        [40, 20],\n",
    "        [10, 10],\n",
    "        dim=DIMENSION\n",
    "    )\n",
    "    pvr.append(permuter.test(first, second)[1])\n",
    "\n",
    "pvr = sorted(pvr)"
   ]
  },
  {
   "cell_type": "code",
   "execution_count": 37,
   "id": "f6e1e94a",
   "metadata": {},
   "outputs": [
    {
     "name": "stderr",
     "output_type": "stream",
     "text": [
      "100%|██████████| 20/20 [01:13<00:00,  3.66s/it]"
     ]
    },
    {
     "name": "stdout",
     "output_type": "stream",
     "text": [
      "CPU times: user 1min 12s, sys: 391 ms, total: 1min 13s\n",
      "Wall time: 1min 13s\n"
     ]
    },
    {
     "name": "stderr",
     "output_type": "stream",
     "text": [
      "\n"
     ]
    }
   ],
   "source": [
    "%%time\n",
    "pvo = []\n",
    "for i in tqdm.tqdm(range(PVALUE)):\n",
    "    first, second = normal_mean(\n",
    "        [40, 20],\n",
    "        [10, 10],\n",
    "        dim=DIMENSION\n",
    "    )\n",
    "    pvo.append(criteria.test(first, second)[1])\n",
    "    \n",
    "pvo = sorted(pvo)"
   ]
  },
  {
   "cell_type": "code",
   "execution_count": 38,
   "id": "2556eff1",
   "metadata": {},
   "outputs": [
    {
     "data": {
      "image/png": "[encoded data removed]",
      "text/plain": [
       "<Figure size 432x288 with 1 Axes>"
      ]
     },
     "metadata": {
      "needs_background": "light"
     },
     "output_type": "display_data"
    }
   ],
   "source": [
    "x = np.linspace(0, 1, PVALUE)\n",
    "plt.scatter(pvo, x, label=\"ordinary\", marker=\"o\")\n",
    "plt.scatter(pvr, x, label=\"ranked\", marker=\"v\")\n",
    "plt.plot(x, x)\n",
    "plt.legend()\n",
    "plt.gca().set_aspect('equal', 'box')\n",
    "plt.show()"
   ]
  },
  {
   "cell_type": "markdown",
   "id": "1b40ae37",
   "metadata": {},
   "source": [
    "## Equal  means different covariance matrices"
   ]
  },
  {
   "cell_type": "code",
   "execution_count": 39,
   "id": "52e49825",
   "metadata": {},
   "outputs": [],
   "source": [
    "def normal_cov(sizes, covs, dim=2):\n",
    "    result = []\n",
    "    for size, cov in zip(sizes, covs):\n",
    "        sample = np.random.multivariate_normal(\n",
    "            np.zeros(dim),\n",
    "            np.array(cov),\n",
    "            size=size)\n",
    "        result.append(sample)\n",
    "    \n",
    "    return result"
   ]
  },
  {
   "cell_type": "markdown",
   "id": "7fd2be08",
   "metadata": {},
   "source": [
    "### Heller test"
   ]
  },
  {
   "cell_type": "code",
   "execution_count": 41,
   "id": "f442de57",
   "metadata": {},
   "outputs": [
    {
     "name": "stdout",
     "output_type": "stream",
     "text": [
      "CPU times: user 5.66 ms, sys: 40.2 ms, total: 45.8 ms\n",
      "Wall time: 9.88 s\n"
     ]
    },
    {
     "data": {
      "text/plain": [
       "''"
      ]
     },
     "execution_count": 41,
     "metadata": {},
     "output_type": "execute_result"
    }
   ],
   "source": [
    "%%time\n",
    "criteria = KSample(indep_test=\"HHG\")\n",
    "permuter = Permuter(\n",
    "    KSample(indep_test=\"HHG\").statistic,\n",
    "    DIMENSION,\n",
    "    100, 50,\n",
    "    seed=SEED\n",
    ")\n",
    "permuter.distribution(DISTRIBUTION, \n",
    "    seeds=[2342, 1234, 8578, 4326])\n",
    ";"
   ]
  },
  {
   "cell_type": "markdown",
   "id": "789f1291",
   "metadata": {},
   "source": [
    "#### Different covs"
   ]
  },
  {
   "cell_type": "code",
   "execution_count": 42,
   "id": "2db479ef",
   "metadata": {},
   "outputs": [
    {
     "data": {
      "image/png": "[encoded data removed]",
      "text/plain": [
       "<Figure size 432x288 with 1 Axes>"
      ]
     },
     "metadata": {
      "needs_background": "light"
     },
     "output_type": "display_data"
    }
   ],
   "source": [
    "first, second = normal_cov(\n",
    "    [100, 50],\n",
    "    [\n",
    "        [[1, 0],\n",
    "         [0, 1]],\n",
    "        [[1, 0.5],\n",
    "         [0.5, 1]]\n",
    "    ],\n",
    "    dim=DIMENSION\n",
    ")\n",
    "\n",
    "plt.scatter(first[:, 0], first[:, 1], label=\"first\")\n",
    "plt.scatter(second[:, 0], second[:, 1], label=\"second\")\n",
    "plt.legend()\n",
    "plt.gca().set_aspect('equal', 'box')\n",
    "plt.show()"
   ]
  },
  {
   "cell_type": "code",
   "execution_count": 43,
   "id": "311a4a99",
   "metadata": {},
   "outputs": [
    {
     "name": "stderr",
     "output_type": "stream",
     "text": [
      "100%|██████████| 20/20 [00:00<00:00, 30.58it/s]"
     ]
    },
    {
     "name": "stdout",
     "output_type": "stream",
     "text": [
      "CPU times: user 3.82 s, sys: 1.02 s, total: 4.84 s\n",
      "Wall time: 655 ms\n"
     ]
    },
    {
     "name": "stderr",
     "output_type": "stream",
     "text": [
      "\n"
     ]
    }
   ],
   "source": [
    "%%time\n",
    "pvr = []\n",
    "for i in tqdm.tqdm(range(PVALUE)):\n",
    "    first, second = normal_cov(\n",
    "        [100, 50],\n",
    "        [\n",
    "            [[1, 0],\n",
    "             [0, 1]],\n",
    "            [[1, 0.5],\n",
    "             [0.5, 1]]\n",
    "        ],\n",
    "        dim=DIMENSION\n",
    "    )\n",
    "    pvr.append(permuter.test(first, second)[1])\n",
    "\n",
    "pvr = sorted(pvr)"
   ]
  },
  {
   "cell_type": "code",
   "execution_count": 44,
   "id": "e671442d",
   "metadata": {},
   "outputs": [
    {
     "name": "stderr",
     "output_type": "stream",
     "text": [
      "100%|██████████| 20/20 [09:37<00:00, 28.88s/it]"
     ]
    },
    {
     "name": "stdout",
     "output_type": "stream",
     "text": [
      "CPU times: user 9min 55s, sys: 7.76 s, total: 10min 2s\n",
      "Wall time: 9min 37s\n"
     ]
    },
    {
     "name": "stderr",
     "output_type": "stream",
     "text": [
      "\n"
     ]
    }
   ],
   "source": [
    "%%time\n",
    "pvo = []\n",
    "for i in tqdm.tqdm(range(PVALUE)):\n",
    "    first, second = normal_cov(\n",
    "        [100, 50],\n",
    "        [\n",
    "            [[1, 0],\n",
    "             [0, 1]],\n",
    "            [[1, 0.5],\n",
    "             [0.5, 1]]\n",
    "        ],\n",
    "        dim=DIMENSION\n",
    "    )\n",
    "    pvo.append(criteria.test(first, second)[1])\n",
    "    \n",
    "pvo = sorted(pvo)"
   ]
  },
  {
   "cell_type": "code",
   "execution_count": 45,
   "id": "629acad6",
   "metadata": {},
   "outputs": [
    {
     "data": {
      "image/png": "[encoded data removed]",
      "text/plain": [
       "<Figure size 432x288 with 1 Axes>"
      ]
     },
     "metadata": {
      "needs_background": "light"
     },
     "output_type": "display_data"
    }
   ],
   "source": [
    "x = np.linspace(0, 1, PVALUE)\n",
    "plt.scatter(pvo, x, label=\"ordinary\", marker=\"o\")\n",
    "plt.scatter(pvr, x, label=\"ranked\", marker=\"v\")\n",
    "plt.plot(x, x)\n",
    "plt.legend()\n",
    "plt.gca().set_aspect('equal', 'box')\n",
    "plt.show()"
   ]
  },
  {
   "cell_type": "markdown",
   "id": "8c9dbe13",
   "metadata": {},
   "source": [
    "#### Equal covs"
   ]
  },
  {
   "cell_type": "code",
   "execution_count": 46,
   "id": "4aaff1b4",
   "metadata": {},
   "outputs": [
    {
     "data": {
      "image/png": "[encoded data removed]",
      "text/plain": [
       "<Figure size 432x288 with 1 Axes>"
      ]
     },
     "metadata": {
      "needs_background": "light"
     },
     "output_type": "display_data"
    }
   ],
   "source": [
    "first, second = normal_cov(\n",
    "    [100, 50],\n",
    "    [\n",
    "        [[1, 0],\n",
    "         [0, 1]],\n",
    "        [[1, 0],\n",
    "         [0, 1]]\n",
    "    ],\n",
    "    dim=DIMENSION\n",
    ")\n",
    "\n",
    "plt.scatter(first[:, 0], first[:, 1], label=\"first\")\n",
    "plt.scatter(second[:, 0], second[:, 1], label=\"second\")\n",
    "plt.legend()\n",
    "plt.gca().set_aspect('equal', 'box')\n",
    "plt.show()"
   ]
  },
  {
   "cell_type": "code",
   "execution_count": 47,
   "id": "948c8253",
   "metadata": {},
   "outputs": [
    {
     "name": "stderr",
     "output_type": "stream",
     "text": [
      "100%|██████████| 20/20 [00:00<00:00, 31.01it/s]"
     ]
    },
    {
     "name": "stdout",
     "output_type": "stream",
     "text": [
      "CPU times: user 4.02 s, sys: 964 ms, total: 4.99 s\n",
      "Wall time: 646 ms\n"
     ]
    },
    {
     "name": "stderr",
     "output_type": "stream",
     "text": [
      "\n"
     ]
    }
   ],
   "source": [
    "%%time\n",
    "pvr = []\n",
    "for i in tqdm.tqdm(range(PVALUE)):\n",
    "    first, second = normal_cov(\n",
    "        [100, 50],\n",
    "        [\n",
    "            [[1, 0],\n",
    "             [0, 1]],\n",
    "            [[1, 0],\n",
    "             [0, 1]]\n",
    "        ],\n",
    "        dim=DIMENSION\n",
    "    )\n",
    "    pvr.append(permuter.test(first, second)[1])\n",
    "\n",
    "pvr = sorted(pvr)"
   ]
  },
  {
   "cell_type": "code",
   "execution_count": 48,
   "id": "234f22fa",
   "metadata": {},
   "outputs": [
    {
     "name": "stderr",
     "output_type": "stream",
     "text": [
      "100%|██████████| 20/20 [01:10<00:00,  3.51s/it]"
     ]
    },
    {
     "name": "stdout",
     "output_type": "stream",
     "text": [
      "CPU times: user 1min 10s, sys: 510 ms, total: 1min 11s\n",
      "Wall time: 1min 10s\n"
     ]
    },
    {
     "name": "stderr",
     "output_type": "stream",
     "text": [
      "\n"
     ]
    }
   ],
   "source": [
    "%%time\n",
    "pvo = []\n",
    "for i in tqdm.tqdm(range(PVALUE)):\n",
    "    first, second = normal_cov(\n",
    "        [FIRST_SIZE, SECOND_SIZE],\n",
    "        [\n",
    "            [[1, 0],\n",
    "             [0, 1]],\n",
    "            [[1, 0],\n",
    "             [0, 1]]\n",
    "        ],\n",
    "        dim=DIMENSION\n",
    "    )\n",
    "    pvo.append(criteria.test(first, second)[1])\n",
    "    \n",
    "pvo = sorted(pvo)"
   ]
  },
  {
   "cell_type": "code",
   "execution_count": 49,
   "id": "a32d2cc0",
   "metadata": {},
   "outputs": [
    {
     "data": {
      "image/png": "[encoded data removed]",
      "text/plain": [
       "<Figure size 432x288 with 1 Axes>"
      ]
     },
     "metadata": {
      "needs_background": "light"
     },
     "output_type": "display_data"
    }
   ],
   "source": [
    "x = np.linspace(0, 1, PVALUE)\n",
    "plt.scatter(pvo, x, label=\"ordinary\", marker=\"o\")\n",
    "plt.scatter(pvr, x, label=\"ranked\", marker=\"v\")\n",
    "plt.plot(x, x)\n",
    "plt.legend()\n",
    "plt.gca().set_aspect('equal', 'box')\n",
    "plt.show()"
   ]
  },
  {
   "cell_type": "code",
   "execution_count": null,
   "id": "39aa4ba8",
   "metadata": {},
   "outputs": [],
   "source": []
  }
 ],
 "metadata": {
  "kernelspec": {
   "display_name": "Python 3",
   "language": "python",
   "name": "python3"
  },
  "language_info": {
   "codemirror_mode": {
    "name": "ipython",
    "version": 3
   },
   "file_extension": ".py",
   "mimetype": "text/x-python",
   "name": "python",
   "nbconvert_exporter": "python",
   "pygments_lexer": "ipython3",
   "version": "3.8.8"
  }
 },
 "nbformat": 4,
 "nbformat_minor": 5
}
